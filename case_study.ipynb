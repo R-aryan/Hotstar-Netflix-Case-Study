{
 "cells": [
  {
   "cell_type": "markdown",
   "metadata": {},
   "source": [
    "## Media Company Case Study"
   ]
  },
  {
   "cell_type": "markdown",
   "metadata": {},
   "source": [
    "Problem Statement: A digital media company (similar to Voot, Hotstar, Netflix, etc.) had launched a show. Initially, the show got a good response, but then witnessed a decline in viewership. The company wants to figure out what went wrong."
   ]
  },
  {
   "cell_type": "code",
   "execution_count": 2,
   "metadata": {},
   "outputs": [],
   "source": [
    "# Importing all required packages\n",
    "import numpy as np\n",
    "import pandas as pd\n",
    "import matplotlib.pyplot as plt\n",
    "import seaborn as sns\n",
    "%matplotlib inline"
   ]
  },
  {
   "cell_type": "code",
   "execution_count": 3,
   "metadata": {},
   "outputs": [],
   "source": [
    "#Importing dataset\n",
    "media = pd.read_csv('mediacompany.csv')\n",
    "media = media.drop('Unnamed: 7',axis = 1)"
   ]
  },
  {
   "cell_type": "code",
   "execution_count": 4,
   "metadata": {},
   "outputs": [
    {
     "data": {
      "text/html": [
       "<div>\n",
       "<style scoped>\n",
       "    .dataframe tbody tr th:only-of-type {\n",
       "        vertical-align: middle;\n",
       "    }\n",
       "\n",
       "    .dataframe tbody tr th {\n",
       "        vertical-align: top;\n",
       "    }\n",
       "\n",
       "    .dataframe thead th {\n",
       "        text-align: right;\n",
       "    }\n",
       "</style>\n",
       "<table border=\"1\" class=\"dataframe\">\n",
       "  <thead>\n",
       "    <tr style=\"text-align: right;\">\n",
       "      <th></th>\n",
       "      <th>Date</th>\n",
       "      <th>Views_show</th>\n",
       "      <th>Visitors</th>\n",
       "      <th>Views_platform</th>\n",
       "      <th>Ad_impression</th>\n",
       "      <th>Cricket_match_india</th>\n",
       "      <th>Character_A</th>\n",
       "    </tr>\n",
       "  </thead>\n",
       "  <tbody>\n",
       "    <tr>\n",
       "      <th>0</th>\n",
       "      <td>3/1/2017</td>\n",
       "      <td>183738</td>\n",
       "      <td>1260228</td>\n",
       "      <td>1706478</td>\n",
       "      <td>1060860448</td>\n",
       "      <td>0</td>\n",
       "      <td>0</td>\n",
       "    </tr>\n",
       "    <tr>\n",
       "      <th>1</th>\n",
       "      <td>3/2/2017</td>\n",
       "      <td>193763</td>\n",
       "      <td>1270561</td>\n",
       "      <td>1690727</td>\n",
       "      <td>1031846645</td>\n",
       "      <td>0</td>\n",
       "      <td>0</td>\n",
       "    </tr>\n",
       "    <tr>\n",
       "      <th>2</th>\n",
       "      <td>3/3/2017</td>\n",
       "      <td>210479</td>\n",
       "      <td>1248183</td>\n",
       "      <td>1726157</td>\n",
       "      <td>1010867575</td>\n",
       "      <td>0</td>\n",
       "      <td>0</td>\n",
       "    </tr>\n",
       "    <tr>\n",
       "      <th>3</th>\n",
       "      <td>3/4/2017</td>\n",
       "      <td>240061</td>\n",
       "      <td>1492913</td>\n",
       "      <td>1855353</td>\n",
       "      <td>1079194579</td>\n",
       "      <td>1</td>\n",
       "      <td>0</td>\n",
       "    </tr>\n",
       "    <tr>\n",
       "      <th>4</th>\n",
       "      <td>3/5/2017</td>\n",
       "      <td>446314</td>\n",
       "      <td>1594712</td>\n",
       "      <td>2041418</td>\n",
       "      <td>1357736987</td>\n",
       "      <td>0</td>\n",
       "      <td>0</td>\n",
       "    </tr>\n",
       "  </tbody>\n",
       "</table>\n",
       "</div>"
      ],
      "text/plain": [
       "       Date  Views_show  Visitors  Views_platform  Ad_impression  \\\n",
       "0  3/1/2017      183738   1260228         1706478     1060860448   \n",
       "1  3/2/2017      193763   1270561         1690727     1031846645   \n",
       "2  3/3/2017      210479   1248183         1726157     1010867575   \n",
       "3  3/4/2017      240061   1492913         1855353     1079194579   \n",
       "4  3/5/2017      446314   1594712         2041418     1357736987   \n",
       "\n",
       "   Cricket_match_india  Character_A  \n",
       "0                    0            0  \n",
       "1                    0            0  \n",
       "2                    0            0  \n",
       "3                    1            0  \n",
       "4                    0            0  "
      ]
     },
     "execution_count": 4,
     "metadata": {},
     "output_type": "execute_result"
    }
   ],
   "source": [
    "#Let's explore the top 5 rows\n",
    "media.head()"
   ]
  },
  {
   "cell_type": "code",
   "execution_count": 5,
   "metadata": {},
   "outputs": [],
   "source": [
    "# Converting date to Pandas datetime format\n",
    "media['Date'] = pd.to_datetime(media['Date'])"
   ]
  },
  {
   "cell_type": "code",
   "execution_count": 6,
   "metadata": {},
   "outputs": [
    {
     "data": {
      "text/html": [
       "<div>\n",
       "<style scoped>\n",
       "    .dataframe tbody tr th:only-of-type {\n",
       "        vertical-align: middle;\n",
       "    }\n",
       "\n",
       "    .dataframe tbody tr th {\n",
       "        vertical-align: top;\n",
       "    }\n",
       "\n",
       "    .dataframe thead th {\n",
       "        text-align: right;\n",
       "    }\n",
       "</style>\n",
       "<table border=\"1\" class=\"dataframe\">\n",
       "  <thead>\n",
       "    <tr style=\"text-align: right;\">\n",
       "      <th></th>\n",
       "      <th>Date</th>\n",
       "      <th>Views_show</th>\n",
       "      <th>Visitors</th>\n",
       "      <th>Views_platform</th>\n",
       "      <th>Ad_impression</th>\n",
       "      <th>Cricket_match_india</th>\n",
       "      <th>Character_A</th>\n",
       "    </tr>\n",
       "  </thead>\n",
       "  <tbody>\n",
       "    <tr>\n",
       "      <th>0</th>\n",
       "      <td>2017-03-01</td>\n",
       "      <td>183738</td>\n",
       "      <td>1260228</td>\n",
       "      <td>1706478</td>\n",
       "      <td>1060860448</td>\n",
       "      <td>0</td>\n",
       "      <td>0</td>\n",
       "    </tr>\n",
       "    <tr>\n",
       "      <th>1</th>\n",
       "      <td>2017-03-02</td>\n",
       "      <td>193763</td>\n",
       "      <td>1270561</td>\n",
       "      <td>1690727</td>\n",
       "      <td>1031846645</td>\n",
       "      <td>0</td>\n",
       "      <td>0</td>\n",
       "    </tr>\n",
       "    <tr>\n",
       "      <th>2</th>\n",
       "      <td>2017-03-03</td>\n",
       "      <td>210479</td>\n",
       "      <td>1248183</td>\n",
       "      <td>1726157</td>\n",
       "      <td>1010867575</td>\n",
       "      <td>0</td>\n",
       "      <td>0</td>\n",
       "    </tr>\n",
       "    <tr>\n",
       "      <th>3</th>\n",
       "      <td>2017-03-04</td>\n",
       "      <td>240061</td>\n",
       "      <td>1492913</td>\n",
       "      <td>1855353</td>\n",
       "      <td>1079194579</td>\n",
       "      <td>1</td>\n",
       "      <td>0</td>\n",
       "    </tr>\n",
       "    <tr>\n",
       "      <th>4</th>\n",
       "      <td>2017-03-05</td>\n",
       "      <td>446314</td>\n",
       "      <td>1594712</td>\n",
       "      <td>2041418</td>\n",
       "      <td>1357736987</td>\n",
       "      <td>0</td>\n",
       "      <td>0</td>\n",
       "    </tr>\n",
       "  </tbody>\n",
       "</table>\n",
       "</div>"
      ],
      "text/plain": [
       "        Date  Views_show  Visitors  Views_platform  Ad_impression  \\\n",
       "0 2017-03-01      183738   1260228         1706478     1060860448   \n",
       "1 2017-03-02      193763   1270561         1690727     1031846645   \n",
       "2 2017-03-03      210479   1248183         1726157     1010867575   \n",
       "3 2017-03-04      240061   1492913         1855353     1079194579   \n",
       "4 2017-03-05      446314   1594712         2041418     1357736987   \n",
       "\n",
       "   Cricket_match_india  Character_A  \n",
       "0                    0            0  \n",
       "1                    0            0  \n",
       "2                    0            0  \n",
       "3                    1            0  \n",
       "4                    0            0  "
      ]
     },
     "execution_count": 6,
     "metadata": {},
     "output_type": "execute_result"
    }
   ],
   "source": [
    "media.head()"
   ]
  },
  {
   "cell_type": "code",
   "execution_count": null,
   "metadata": {},
   "outputs": [],
   "source": []
  }
 ],
 "metadata": {
  "kernelspec": {
   "display_name": "Python 3",
   "language": "python",
   "name": "python3"
  },
  "language_info": {
   "codemirror_mode": {
    "name": "ipython",
    "version": 3
   },
   "file_extension": ".py",
   "mimetype": "text/x-python",
   "name": "python",
   "nbconvert_exporter": "python",
   "pygments_lexer": "ipython3",
   "version": "3.6.8"
  }
 },
 "nbformat": 4,
 "nbformat_minor": 2
}
